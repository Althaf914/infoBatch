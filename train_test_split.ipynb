   {
  "nbformat": 4,
  "nbformat_minor": 0,
  "metadata": {
    "colab": {
      "provenance": []
    },
    "kernelspec": {
      "name": "python3",
      "display_name": "Python 3"
    },
    "language_info": {
      "name": "python"
    }
  },
  "cells": [
    {
      "cell_type": "code",
      "execution_count": null,
      "metadata": {},
      "outputs": [],
      "source": [
        "import pandas as pd\n",
        "import numpy as np\n",
        "from sklearn.preprocessing import StandardScaler\n",
        "from sklearn.model_selection import train_test_split\n",
        "from sklearn.linear_model import LinearRegression\n",
        "from sklearn.metrics import r2_score\n",
        "\n",
        "# Load dataset\n",
        "df = pd.read_excel(\"AirQualityUCI.xlsx\", sheet_name=\"AirQualityUCI\")\n",
        "\n",
        "# Create Datetime and drop original Date/Time\n",
        "df['Datetime'] = pd.to_datetime(df['Date'].dt.strftime('%Y-%m-%d') + ' ' + df['Time'].astype(str))\n",
        "df.drop(['Date', 'Time'], axis=1, inplace=True)\n",
        "\n",
        "# Replace invalid values (-200) with NaN and fill\n",
        "df.replace(to_replace=-200, value=np.nan, inplace=True)\n",
        "df.ffill(inplace=True)\n",
        "df.bfill(inplace=True)\n",
        "\n",
        "# Standardize numeric columns\n",
        "numeric_cols = df.select_dtypes(include=[np.number]).columns\n",
        "scaler = StandardScaler()\n",
        "df[numeric_cols] = scaler.fit_transform(df[numeric_cols])\n",
        "\n",
        "# Feature engineering\n",
        "df['Hour'] = df['Datetime'].dt.hour\n",
        "df['DayOfWeek'] = df['Datetime'].dt.dayofweek\n",
        "\n",
        "# Define features and target\n",
        "X = df[['PT08.S1(CO)', 'PT08.S2(NMHC)', 'PT08.S3(NOx)', 'PT08.S4(NO2)',\n",
        "        'PT08.S5(O3)', 'T', 'RH', 'AH', 'Hour', 'DayOfWeek']]\n",
        "y = df['CO(GT)']\n",
        "\n",
        "# Train-test split\n",
        "X_train, X_test, y_train, y_test = train_test_split(X, y, test_size=0.2, random_state=42)\n",
        "\n",
        "# Train regression model\n",
        "regressor = LinearRegression()\n",
        "regressor.fit(X_train, y_train)\n",
        "\n",
        "# Predictions\n",
        "y_train_pred = regressor.predict(X_train)\n",
        "y_test_pred = regressor.predict(X_test)\n",
        "\n",
        "# R² scores\n",
        "r2_train = r2_score(y_train, y_train_pred)\n",
        "r2_test = r2_score(y_test, y_test_pred)\n",
        "\n",
        "# Matrix output\n",
        "r2_matrix = pd.DataFrame({\n",
        "    'Dataset': ['Train', 'Test'],\n",
        "    'R2 Score': [r2_train, r2_test]\n",
        "})\n",
        "print(r2_matrix)\n"
      ]
    }
  ]
}


