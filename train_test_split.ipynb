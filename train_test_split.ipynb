from sklearn.metrics import r2_score
import pandas as pd

# Predictions for train and test
y_train_pred = regressor.predict(X_train)
y_test_pred = regressor.predict(X_test)

# Calculate R² scores
r2_train = r2_score(y_train, y_train_pred)
r2_test = r2_score(y_test, y_test_pred)

# Create a matrix-style DataFrame
r2_matrix = pd.DataFrame({
    "Dataset": ["Train", "Test"],
    "R2 Score": [r2_train, r2_test]
})

print(r2_matrix)
