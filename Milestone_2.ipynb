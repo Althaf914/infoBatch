{
  "nbformat": 4,
  "nbformat_minor": 0,
  "metadata": {
    "colab": {
      "provenance": []
    },
    "kernelspec": {
      "name": "python3",
      "display_name": "Python 3"
    },
    "language_info": {
      "name": "python"
    }
  },
  "cells": [
    {
      "cell_type": "code",
      "execution_count": 3,
      "metadata": {
        "id": "M3Ls6Lx0MbJY",
        "colab": {
          "base_uri": "https://localhost:8080/"
        },
        "outputId": "6657f6ec-ceec-4cf6-ff01-8f2bb36062a3"
      },
      "outputs": [
        {
          "output_type": "stream",
          "name": "stdout",
          "text": [
            "     CO(GT)  PT08.S1(CO)  NMHC(GT)  C6H6(GT)  PT08.S2(NMHC)   NOx(GT)  \\\n",
            "0  0.352315     1.172176 -1.643819  0.223597       0.382378 -0.361656   \n",
            "1 -0.055926     0.863643 -2.162215 -0.104848       0.045730 -0.666592   \n",
            "2  0.080154     1.363443 -2.489624 -0.157640      -0.011770 -0.531065   \n",
            "3  0.080154     1.242763 -2.598760 -0.127105       0.021617 -0.332614   \n",
            "4 -0.328086     0.772564 -2.994379 -0.485428      -0.396644 -0.531065   \n",
            "\n",
            "   PT08.S3(NOx)   NO2(GT)  PT08.S4(NO2)  PT08.S5(O3)         T        RH  \\\n",
            "0      0.874616  0.076227      0.688266     0.577077 -0.534521  0.003466   \n",
            "1      1.334155 -0.368610      0.304712    -0.141496 -0.568525 -0.064243   \n",
            "2      1.202160  0.097410      0.292479     0.106141 -0.727211  0.297354   \n",
            "3      1.014433  0.266872      0.376673     0.420706 -0.829224  0.644545   \n",
            "4      1.456373  0.139775      0.106818     0.193757 -0.812222  0.620054   \n",
            "\n",
            "         AH            Datetime  Hour  DayOfWeek  \n",
            "0 -0.641362 2004-03-10 18:00:00    18          2  \n",
            "1 -0.721070 2004-03-10 19:00:00    19          2  \n",
            "2 -0.659926 2004-03-10 20:00:00    20          2  \n",
            "3 -0.569825 2004-03-10 21:00:00    21          2  \n",
            "4 -0.564683 2004-03-10 22:00:00    22          2  \n"
          ]
        },
        {
          "output_type": "stream",
          "name": "stderr",
          "text": [
            "/tmp/ipython-input-1554985281.py:16: FutureWarning: DataFrame.fillna with 'method' is deprecated and will raise in a future version. Use obj.ffill() or obj.bfill() instead.\n",
            "  df.fillna(method='ffill', inplace=True)\n",
            "/tmp/ipython-input-1554985281.py:17: FutureWarning: DataFrame.fillna with 'method' is deprecated and will raise in a future version. Use obj.ffill() or obj.bfill() instead.\n",
            "  df.fillna(method='bfill', inplace=True)\n"
          ]
        }
      ],
      "source": [
        "import pandas as pd\n",
        "import numpy as np\n",
        "from sklearn.preprocessing import StandardScaler\n",
        "\n",
        "# Load dataset\n",
        "df = pd.read_excel(\"AirQualityUCI.xlsx\", sheet_name=\"AirQualityUCI\")\n",
        "\n",
        "\n",
        "df['Datetime'] = pd.to_datetime(df['Date'].dt.strftime('%Y-%m-%d') + ' ' + df['Time'].astype(str))\n",
        "df.drop(['Date', 'Time'], axis=1, inplace=True)\n",
        "\n",
        "# Replace invalid/missing values (negative values) with NaN\n",
        "df.replace(to_replace=-200, value=np.nan, inplace=True)\n",
        "\n",
        "# Fill missing values\n",
        "df.fillna(method='ffill', inplace=True)\n",
        "df.fillna(method='bfill', inplace=True)\n",
        "\n",
        "# Standardize numeric features\n",
        "numeric_cols = df.select_dtypes(include=[np.number]).columns\n",
        "scaler = StandardScaler()\n",
        "df[numeric_cols] = scaler.fit_transform(df[numeric_cols])\n",
        "\n",
        "# Feature engineering\n",
        "df['Hour'] = df['Datetime'].dt.hour\n",
        "df['DayOfWeek'] = df['Datetime'].dt.dayofweek\n",
        "\n",
        "print(df.head())\n"
      ]
    }
  ]
}